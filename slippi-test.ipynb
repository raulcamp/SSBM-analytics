{
 "cells": [
  {
   "cell_type": "code",
   "execution_count": 1,
   "id": "e53ad97c",
   "metadata": {},
   "outputs": [],
   "source": [
    "from slippi import Game\n",
    "import pandas as pd\n",
    "import numbers as np\n",
    "import matplotlib.pyplot as plt\n",
    "import os"
   ]
  },
  {
   "cell_type": "code",
   "execution_count": 2,
   "id": "a8480a56",
   "metadata": {},
   "outputs": [],
   "source": [
    "game = Game('D:\\Slippi-Archive/Game_20230625T205700.slp')"
   ]
  },
  {
   "cell_type": "code",
   "execution_count": 3,
   "id": "4c3455c7",
   "metadata": {},
   "outputs": [
    {
     "data": {
      "text/plain": [
       "Game(\n",
       "    end=End(\n",
       "        lras_initiator=None,\n",
       "        method=2:GAME),\n",
       "    frames=[...](15207),\n",
       "    metadata=Metadata(\n",
       "        console_name=None,\n",
       "        date=2023-06-26 03:57:00+00:00,\n",
       "        duration=15207,\n",
       "        platform='dolphin':DOLPHIN,\n",
       "        players=(\n",
       "            Player(\n",
       "                characters={22:FALCO: 19869},\n",
       "                netplay=Netplay(\n",
       "                    code=RAXX#960,\n",
       "                    name=Raxx)),\n",
       "            Player(\n",
       "                characters={21:DR_MARIO: 19869},\n",
       "                netplay=Netplay(\n",
       "                    code=DP#555,\n",
       "                    name=@DP3theshow)),\n",
       "            None,\n",
       "            None)),\n",
       "    start=Start(\n",
       "        is_frozen_ps=False,\n",
       "        is_pal=False,\n",
       "        is_teams=False,\n",
       "        players=(\n",
       "            Player(\n",
       "                character=20:FALCO,\n",
       "                costume=2,\n",
       "                stocks=4,\n",
       "                tag=,\n",
       "                team=None,\n",
       "                type=0:HUMAN,\n",
       "                ucf=UCF(\n",
       "                    dash_back=1:UCF,\n",
       "                    shield_drop=1:UCF)),\n",
       "            Player(\n",
       "                character=22:DR_MARIO,\n",
       "                costume=4,\n",
       "                stocks=4,\n",
       "                tag=,\n",
       "                team=None,\n",
       "                type=0:HUMAN,\n",
       "                ucf=UCF(\n",
       "                    dash_back=1:UCF,\n",
       "                    shield_drop=1:UCF)),\n",
       "            None,\n",
       "            None),\n",
       "        random_seed=59647,\n",
       "        slippi=Slippi(\n",
       "            version=3.15.0),\n",
       "        stage=8:YOSHIS_STORY))"
      ]
     },
     "execution_count": 3,
     "metadata": {},
     "output_type": "execute_result"
    }
   ],
   "source": [
    "game"
   ]
  },
  {
   "cell_type": "code",
   "execution_count": 23,
   "id": "800ccc16",
   "metadata": {},
   "outputs": [
    {
     "data": {
      "text/plain": [
       "0"
      ]
     },
     "execution_count": 23,
     "metadata": {},
     "output_type": "execute_result"
    }
   ],
   "source": [
    "game.frames[-1].ports[1].leader.post.stocks"
   ]
  },
  {
   "cell_type": "code",
   "execution_count": null,
   "id": "f705f1a1",
   "metadata": {},
   "outputs": [],
   "source": []
  }
 ],
 "metadata": {
  "kernelspec": {
   "display_name": "Python 3 (ipykernel)",
   "language": "python",
   "name": "python3"
  },
  "language_info": {
   "codemirror_mode": {
    "name": "ipython",
    "version": 3
   },
   "file_extension": ".py",
   "mimetype": "text/x-python",
   "name": "python",
   "nbconvert_exporter": "python",
   "pygments_lexer": "ipython3",
   "version": "3.7.2"
  }
 },
 "nbformat": 4,
 "nbformat_minor": 5
}
